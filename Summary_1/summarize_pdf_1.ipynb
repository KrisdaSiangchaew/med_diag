{
 "cells": [
  {
   "cell_type": "code",
   "execution_count": 23,
   "id": "5d713818",
   "metadata": {},
   "outputs": [],
   "source": [
    "link_system_prompt = \"You are provided with a report obtained using a medical imaging method as indicated in the report.\" \n",
    "link_system_prompt += \"You shall provide a summary of the report in layman's terms.\"\n",
    "link_system_prompt += \"When using medical jargon, please give also give an explanation that is easy to understand for someone without a medical background.\"\n",
    "link_system_prompt += \"Here is an example of a report:\"\n",
    "link_system_prompt += \"\"\" \n",
    "Summary of the Report (file name: diagnostic_report_20240702.pdf):\n",
    "Background: The patient is a 77-year-old woman with a history of lung cancer (specifically adenocarcinoma) who has had surgery to remove a part of her left lung (known as LLL lobectomy).\n",
    "\n",
    "Imaging Method: A CT scan (a type of medical imaging that combines X-rays to create detailed pictures of the chest) was performed without using any special contrast dye.\n",
    "\n",
    "Key Findings:\n",
    "Lymph Nodes: There are small lymph nodes in her chest (right side), but they are not overly large and may not be concerning at this time.\n",
    "Lungs: Two tiny nodules (2 mm each) were found in her right upper lung, described as \"ground glass\" (meaning they appear hazy on the scan) and might require monitoring. Additionally, there's a small calcified nodule, which typically suggests it is probably not a new cancer.\n",
    "Post-Surgery Changes: The findings show the patient has changes related to her prior lung surgery.\n",
    "Vertebra: A compression fracture was observed in one of the spine bones (T12).\n",
    "Mass in Adrenal Gland: A significant mass (4.8x6.1x5.6 cm) was found near her left adrenal gland, leading to suspicion of a potential spread (metastasis) of her cancer.\n",
    "\n",
    "Possible Diagnoses:\n",
    "Indeterminate Lung Nodules: The small nodules in the lung require monitoring as they could signify either benign (non-cancerous) or malignant (cancerous) changes.\n",
    "Adrenal Mass: The mass near the left adrenal gland may indicate possible metastasis from the lung cancer, warranting further assessment.\n",
    "Compression Fracture of T12: This usually results from osteoporosis or cancer impacting bone strength.\n",
    "\n",
    "Next Steps for the Patient:\n",
    "\n",
    "Follow-Up Imaging:\n",
    "Consider scheduling a follow-up CT scan of the abdomen to further investigate the adrenal mass and assess its characteristics.\n",
    "Regular follow-ups on the lung nodules to monitor for any changes in size or appearance.\n",
    "\n",
    "Consult with Specialists:\n",
    "A consultation with an oncologist (cancer specialist) to evaluate the implications of the adrenal mass and the lung nodules.\n",
    "Possible referral to an endocrinologist (a specialist in hormone-related health) if the adrenal mass affects hormone levels.\n",
    "\n",
    "Pain Management and Physical Therapy:\n",
    "Address the compression fracture with appropriate pain management and possibly physical therapy to strengthen the area and improve mobility.\n",
    "Regular Monitoring: Continued monitoring of chest and abdominal findings with scheduled imaging to track any changes in the condition.\n",
    "\n",
    "Lifestyle Modifications: \n",
    "Discuss and consider lifestyle adjustments, including diet and exercise, to promote overall health and well-being post-surgery.\n",
    "\n",
    " \"\"\"\n",
    "\n",
    "link_user_prompt = \"Please summarize the report and provide possible diagnoses and next steps.\""
   ]
  },
  {
   "cell_type": "code",
   "execution_count": 3,
   "id": "fa051dd7",
   "metadata": {},
   "outputs": [
    {
     "name": "stdout",
     "output_type": "stream",
     "text": [
      "API key found\n"
     ]
    }
   ],
   "source": [
    "import os\n",
    "from dotenv import load_dotenv\n",
    "\n",
    "load_dotenv(override=True)\n",
    "api_key = os.getenv('OPENAI_API_KEY')\n",
    "if not api_key:\n",
    "    print(\"API key not found\")\n",
    "elif not api_key.startswith('sk-proj-'):\n",
    "    print(\"An API key was found but it doesn't start with sk-proj-\")\n",
    "elif api_key.strip() != api_key:\n",
    "    print(\"An API key was found but it contain whitespace before or end of it\")\n",
    "else:\n",
    "    print(\"API key found\")"
   ]
  },
  {
   "cell_type": "code",
   "execution_count": 4,
   "id": "a4fe1e13",
   "metadata": {},
   "outputs": [],
   "source": [
    "from openai import OpenAI\n",
    "client = OpenAI()"
   ]
  },
  {
   "cell_type": "code",
   "execution_count": 18,
   "id": "7f6b14b9",
   "metadata": {},
   "outputs": [],
   "source": [
    "file1 = client.files.create(\n",
    "    file=open(\"reports/diagnostic_report_20240702.pdf\", \"rb\"),\n",
    "    purpose=\"user_data\"\n",
    ")"
   ]
  },
  {
   "cell_type": "code",
   "execution_count": 24,
   "id": "93404507",
   "metadata": {},
   "outputs": [],
   "source": [
    "response = client.responses.create(\n",
    "    model=\"gpt-4o-mini\",\n",
    "    input=[\n",
    "        {\n",
    "            \"role\": \"system\",\n",
    "            \"content\": link_system_prompt\n",
    "        },\n",
    "        {\n",
    "            \"role\": \"user\",\n",
    "            \"content\": link_user_prompt\n",
    "        },\n",
    "        {\n",
    "            \"role\": \"user\",\n",
    "            \"content\": [\n",
    "                {\n",
    "                    \"type\": \"input_file\",\n",
    "                    \"file_id\": file1.id,\n",
    "                },\n",
    "\n",
    "            ]\n",
    "        }\n",
    "    ]\n",
    ")"
   ]
  },
  {
   "cell_type": "code",
   "execution_count": 25,
   "id": "a82b7a9c",
   "metadata": {},
   "outputs": [
    {
     "data": {
      "text/markdown": [
       "### Summary of the Report\n",
       "\n",
       "**Background**: The patient is a 77-year-old woman with a history of lung cancer (specifically adenocarcinoma) who has undergone surgery to remove part of her left lung.\n",
       "\n",
       "**Imaging Method**: A CT scan of the chest was performed without the use of contrast dye.\n",
       "\n",
       "**Key Findings**:\n",
       "- **Lymph Nodes**: There are a few small lymph nodes in the chest that are up to 7.5 mm in size. These are not larger than expected and aren’t currently a major concern.\n",
       "- **Lungs**: \n",
       "  - Two tiny nodules (2 mm each) were found in the right upper lung that appear hazy on the scan – these are termed \"ground glass nodules.\" They may need to be monitored.\n",
       "  - A small calcified nodule was also noted, which often suggests it is not a new cancer.\n",
       "- **Surgery Effects**: Changes seen are related to her previous lung surgery.\n",
       "- **Spine**: A compression fracture was found in one of the vertebrae (T12).\n",
       "- **Adrenal Gland**: A significant mass measuring approximately 4.8 x 6.1 x 5.6 cm was found near her left adrenal gland. There are concerns this might represent a spread of her lung cancer.\n",
       "\n",
       "### Possible Diagnoses:\n",
       "1. **Indeterminate Lung Nodules**: The small nodules in the lung might be benign (not cancerous) or could indicate cancerous changes, requiring monitoring.\n",
       "2. **Adrenal Mass**: The mass near the left adrenal gland is suspected to be a metastasis (spread) from her lung cancer and needs further evaluation.\n",
       "3. **Compression Fracture**: This may be caused by weakening bones due to osteoporosis or the cancer affecting bone strength.\n",
       "\n",
       "### Next Steps for the Patient:\n",
       "- **Follow-Up Imaging**: \n",
       "  - Schedule a follow-up CT scan of the abdomen to investigate the adrenal mass further.\n",
       "  - Regular monitoring of the lung nodules to watch for any changes in size or appearance.\n",
       "  \n",
       "- **Consult with Specialists**:\n",
       "  - See an oncologist (cancer specialist) for assessment of the adrenal mass and lung nodules.\n",
       "  - Potential referral to an endocrinologist if the adrenal mass affects hormone levels.\n",
       "\n",
       "- **Pain Management and Physical Therapy**: Address the T12 compression fracture with pain management strategies and consider physical therapy to help with mobility and strengthen the area.\n",
       "\n",
       "- **Regular Monitoring**: Continue to monitor chest and abdominal findings with scheduled imaging to track any changes in condition.\n",
       "\n",
       "- **Lifestyle Modifications**: Discuss potential lifestyle changes, including diet and exercise, to enhance overall health and wellbeing after surgery."
      ],
      "text/plain": [
       "<IPython.core.display.Markdown object>"
      ]
     },
     "metadata": {},
     "output_type": "display_data"
    }
   ],
   "source": [
    "from IPython.display import Markdown, display\n",
    "\n",
    "display(Markdown(response.output_text))"
   ]
  },
  {
   "cell_type": "markdown",
   "id": "59d91c38",
   "metadata": {},
   "source": []
  },
  {
   "cell_type": "markdown",
   "id": "824b6d1b",
   "metadata": {},
   "source": [
    "Summary of the Report (file name: diagnostic_report_20240702.pdf):\n",
    "Background: The patient is a 77-year-old woman with a history of lung cancer (specifically adenocarcinoma) who has had surgery to remove a part of her left lung (known as LLL lobectomy).\n",
    "\n",
    "Imaging Method: A CT scan (a type of medical imaging that combines X-rays to create detailed pictures of the chest) was performed without using any special contrast dye.\n",
    "\n",
    "Key Findings:\n",
    "Lymph Nodes: There are small lymph nodes in her chest (right side), but they are not overly large and may not be concerning at this time.\n",
    "Lungs: Two tiny nodules (2 mm each) were found in her right upper lung, described as \"ground glass\" (meaning they appear hazy on the scan) and might require monitoring. Additionally, there's a small calcified nodule, which typically suggests it is probably not a new cancer.\n",
    "Post-Surgery Changes: The findings show the patient has changes related to her prior lung surgery.\n",
    "Vertebra: A compression fracture was observed in one of the spine bones (T12).\n",
    "Mass in Adrenal Gland: A significant mass (4.8x6.1x5.6 cm) was found near her left adrenal gland, leading to suspicion of a potential spread (metastasis) of her cancer.\n",
    "\n",
    "Possible Diagnoses:\n",
    "Indeterminate Lung Nodules: The small nodules in the lung require monitoring as they could signify either benign (non-cancerous) or malignant (cancerous) changes.\n",
    "Adrenal Mass: The mass near the left adrenal gland may indicate possible metastasis from the lung cancer, warranting further assessment.\n",
    "Compression Fracture of T12: This usually results from osteoporosis or cancer impacting bone strength.\n",
    "\n",
    "Next Steps for the Patient:\n",
    "\n",
    "Follow-Up Imaging:\n",
    "Consider scheduling a follow-up CT scan of the abdomen to further investigate the adrenal mass and assess its characteristics.\n",
    "Regular follow-ups on the lung nodules to monitor for any changes in size or appearance.\n",
    "\n",
    "Consult with Specialists:\n",
    "A consultation with an oncologist (cancer specialist) to evaluate the implications of the adrenal mass and the lung nodules.\n",
    "Possible referral to an endocrinologist (a specialist in hormone-related health) if the adrenal mass affects hormone levels.\n",
    "\n",
    "Pain Management and Physical Therapy:\n",
    "Address the compression fracture with appropriate pain management and possibly physical therapy to strengthen the area and improve mobility.\n",
    "Regular Monitoring: Continued monitoring of chest and abdominal findings with scheduled imaging to track any changes in the condition.\n",
    "\n",
    "Lifestyle Modifications: \n",
    "Discuss and consider lifestyle adjustments, including diet and exercise, to promote overall health and well-being post-surgery.\n",
    "\n",
    "It's important for the patient to engage in open discussions with her healthcare team about all findings and potential concerns."
   ]
  },
  {
   "cell_type": "code",
   "execution_count": null,
   "id": "eb69cc0e",
   "metadata": {},
   "outputs": [],
   "source": []
  }
 ],
 "metadata": {
  "kernelspec": {
   "display_name": "llms",
   "language": "python",
   "name": "python3"
  },
  "language_info": {
   "codemirror_mode": {
    "name": "ipython",
    "version": 3
   },
   "file_extension": ".py",
   "mimetype": "text/x-python",
   "name": "python",
   "nbconvert_exporter": "python",
   "pygments_lexer": "ipython3",
   "version": "3.11.12"
  }
 },
 "nbformat": 4,
 "nbformat_minor": 5
}
