{
 "cells": [
  {
   "cell_type": "code",
   "execution_count": 29,
   "id": "fa051dd7",
   "metadata": {},
   "outputs": [
    {
     "name": "stdout",
     "output_type": "stream",
     "text": [
      "API key found\n"
     ]
    }
   ],
   "source": [
    "import os\n",
    "from dotenv import load_dotenv\n",
    "\n",
    "load_dotenv(override=True)\n",
    "api_key = os.getenv('OPENAI_API_KEY')\n",
    "if not api_key:\n",
    "    print(\"API key not found\")\n",
    "elif not api_key.startswith('sk-proj-'):\n",
    "    print(\"An API key was found but it doesn't start with sk-proj-\")\n",
    "elif api_key.strip() != api_key:\n",
    "    print(\"An API key was found but it contain whitespace before or end of it\")\n",
    "else:\n",
    "    print(\"API key found\")"
   ]
  },
  {
   "cell_type": "code",
   "execution_count": 30,
   "id": "a4fe1e13",
   "metadata": {},
   "outputs": [],
   "source": [
    "from openai import OpenAI\n",
    "client = OpenAI()"
   ]
  },
  {
   "cell_type": "code",
   "execution_count": 63,
   "id": "7f6b14b9",
   "metadata": {},
   "outputs": [],
   "source": [
    "file1 = client.files.create(\n",
    "    file=open(\"diagnostic_report_20240702.pdf\", \"rb\"),\n",
    "    purpose=\"user_data\"\n",
    ")\n",
    "\n",
    "file2 = client.files.create(\n",
    "    file=open(\"diagnostic_report_20240710.pdf\", \"rb\"),\n",
    "    purpose=\"user_data\"\n",
    ")\n",
    "\n",
    "file3 = client.files.create(\n",
    "    file=open(\"diagnostic_report_20240930.pdf\", \"rb\"),\n",
    "    purpose=\"user_data\"\n",
    ")"
   ]
  },
  {
   "cell_type": "code",
   "execution_count": 70,
   "id": "93404507",
   "metadata": {},
   "outputs": [],
   "source": [
    "system_prompt = \"\"\" \n",
    "You are a physician.\n",
    "You communicate using simple language.\n",
    "You provide detailed explanation whenever there is medical terms used.\n",
    "You also like to give related statistics whenever appropriate.\n",
    "\"\"\"\n",
    "\n",
    "user_prompt = \"\"\" \n",
    "Attached please find medical findings taken on 3 different dates.\n",
    "Please consider all those findings and make a summary.\n",
    "Please also propose potential follow up actions in the end.\n",
    "\"\"\"\n",
    "response = client.responses.create(\n",
    "    model=\"gpt-4o-mini\",\n",
    "    input=[\n",
    "        {\n",
    "            \"role\": \"system\",\n",
    "            \"content\": system_prompt\n",
    "        },\n",
    "        {\n",
    "            \"role\": \"user\",\n",
    "            \"content\": [\n",
    "                {\n",
    "                    \"type\": \"input_file\",\n",
    "                    \"file_id\": file1.id,\n",
    "                },\n",
    "                {\n",
    "                    \"type\": \"input_file\",\n",
    "                    \"file_id\": file2.id,\n",
    "                },\n",
    "                {\n",
    "                    \"type\": \"input_file\",\n",
    "                    \"file_id\": file3.id,\n",
    "                },\n",
    "                {\n",
    "                    \"type\": \"input_text\",\n",
    "                    \"text\": \"\",\n",
    "                }\n",
    "            ]\n",
    "        }\n",
    "    ]\n",
    ")"
   ]
  },
  {
   "cell_type": "code",
   "execution_count": 71,
   "id": "a82b7a9c",
   "metadata": {},
   "outputs": [
    {
     "data": {
      "text/markdown": [
       "### Summary of CT Results\n",
       "\n",
       "**Patient Background:**\n",
       "- **ID:** 1201466\n",
       "- **Birth Date:** November 1, 1946\n",
       "- **Gender:** Female\n",
       "- **History:** Recurrent lung cancer with metastasis to lung and adrenal gland. Previously underwent lobectomy (surgery to remove part of the lung).\n",
       "\n",
       "#### CT Findings (as of September 30, 2024):\n",
       "\n",
       "**1. Mediastinum (area between the lungs):**\n",
       "- **Left Lower Paratracheal Node:** Decreased in size (now 0.9 cm) compared to prior exams. This could indicate some response to treatment.\n",
       "- **Other Nodes:** Some small nodes present but unchanged in size.\n",
       "\n",
       "**2. Lungs:**\n",
       "- **Post Surgery:** Evidence of previous lobectomy.\n",
       "- **Nodules:** \n",
       "  - 2-mm and 4-mm ground glass nodules (areas of hazy lung tissue) were identified; stable in size.\n",
       "  - A few solid nodules noted, unchanged.\n",
       "\n",
       "**3. Pleura (lining around the lungs):**\n",
       "- Minimal thickening noted but no fluid accumulation or pneumothorax (collapsed lung).\n",
       "\n",
       "**4. Adrenal Glands:**\n",
       "- Left adrenal mass slightly decreased in size (from 5.7x6.1 cm to 5.4x5.6 cm). This may indicate a response to treatment. \n",
       "- The normal left adrenal gland is not visible, which may suggest involvement by the tumor. \n",
       "\n",
       "**5. Liver:**\n",
       "- A tiny lesion observed but too small to characterize, meaning it’s uncertain if it's normal or abnormal.\n",
       "\n",
       "**6. Kidneys:**\n",
       "- Normal size; small cysts noted, which are generally benign (non-cancerous).\n",
       "\n",
       "**7. Bones:**\n",
       "- Compression fracture of the T12 vertebra remains unchanged.\n",
       "- No new concerning bone lesions seen.\n",
       "\n",
       "### Overall Impression\n",
       "- The lung and adrenal masses show signs of stability or slight decrease, suggesting a possible positive response to treatment.\n",
       "- Continued monitoring is important to evaluate the nature of the kidney and liver findings.\n",
       "\n",
       "### Next Steps\n",
       "- Regular follow-up imaging studies as needed.\n",
       "- Further evaluation of any new findings or changes in existing masses is essential.\n",
       "  \n",
       "If you have any more questions or want further clarification about specific aspects of the findings, feel free to ask!"
      ],
      "text/plain": [
       "<IPython.core.display.Markdown object>"
      ]
     },
     "metadata": {},
     "output_type": "display_data"
    }
   ],
   "source": [
    "from IPython.display import Markdown, display\n",
    "\n",
    "display(Markdown(response.output_text))"
   ]
  },
  {
   "cell_type": "code",
   "execution_count": null,
   "id": "eb69cc0e",
   "metadata": {},
   "outputs": [],
   "source": []
  }
 ],
 "metadata": {
  "kernelspec": {
   "display_name": "llms",
   "language": "python",
   "name": "python3"
  },
  "language_info": {
   "codemirror_mode": {
    "name": "ipython",
    "version": 3
   },
   "file_extension": ".py",
   "mimetype": "text/x-python",
   "name": "python",
   "nbconvert_exporter": "python",
   "pygments_lexer": "ipython3",
   "version": "3.11.11"
  }
 },
 "nbformat": 4,
 "nbformat_minor": 5
}
