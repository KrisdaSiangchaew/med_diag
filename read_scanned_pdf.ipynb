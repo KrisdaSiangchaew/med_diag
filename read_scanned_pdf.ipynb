{
 "cells": [
  {
   "cell_type": "code",
   "execution_count": 1,
   "id": "7cb023f7",
   "metadata": {},
   "outputs": [],
   "source": [
    "import pytesseract\n",
    "from PIL import Image\n",
    "import pdf2image  # Convert PDF to images"
   ]
  },
  {
   "cell_type": "code",
   "execution_count": 5,
   "id": "a17bbcb6",
   "metadata": {},
   "outputs": [],
   "source": [
    "!uv pip install -q pytesseract"
   ]
  },
  {
   "cell_type": "code",
   "execution_count": 4,
   "id": "d3f9a242",
   "metadata": {},
   "outputs": [],
   "source": [
    "# if your PDF is scanned (images only), use OCR\n",
    "\n",
    "def read_scanned_pdf(file_path):\n",
    "    extracted_text = []\n",
    "    images = pdf2image.convert_from_path(file_path)\n",
    "    for img in images:\n",
    "        text = pytesseract.image_to_string(img, lang='tha+eng')\n",
    "        extracted_text.append(text)\n",
    "    return extracted_text"
   ]
  },
  {
   "cell_type": "code",
   "execution_count": null,
   "id": "3e6059f3",
   "metadata": {},
   "outputs": [],
   "source": [
    "path = \"/Users/kris/Documents/Projects/med_diag/medical-records/HEMATOLOGY/HEMATOLOGY1-1.pdf\"\n",
    "\n",
    "# Example usage\n",
    "pdf_text = read_scanned_pdf(path)\n",
    "for i, page_text in enumerate(pdf_text):\n",
    "    print(f\"Scanned page {i + 1} of {len(pdf_text)}:\\n\\n{page_text}\\n{'-' * 40}\\n\\n\")"
   ]
  },
  {
   "cell_type": "code",
   "execution_count": 2,
   "id": "fc07d3bb",
   "metadata": {},
   "outputs": [],
   "source": [
    "def extract(file_path):\n",
    "    \"\"\"\n",
    "    Extract text from a PDF file using OCR if the PDF is scanned.\n",
    "    \"\"\"\n",
    "    try:\n",
    "        texts = read_scanned_pdf(file_path)\n",
    "        if texts:\n",
    "            joined_text = \"\"\n",
    "            for i, page_text in enumerate(texts):\n",
    "                joined_text += f\"Scanned page {i + 1} of {len(texts)}:\\n\\n{page_text}\\n{'-' * 40}\\n\\n\"\n",
    "            return joined_text\n",
    "        else:\n",
    "            return \"No text extracted from the PDF.\"\n",
    "    except Exception as e:\n",
    "        return f\"Error reading PDF: {e}\""
   ]
  },
  {
   "cell_type": "code",
   "execution_count": null,
   "id": "467dc5db",
   "metadata": {},
   "outputs": [],
   "source": [
    "# User interface to upload a PDF and display the extracted text\n",
    "\n",
    "from pathlib import Path\n",
    "import gradio as gr\n",
    "\n",
    "def extract_text_from_pdf(file):\n",
    "    if file is None:\n",
    "        return \"No file uploaded.\"\n",
    "    file_path = Path(file.name)\n",
    "    text = read_scanned_pdf(file_path)\n",
    "    return text\n",
    "\n",
    "with gr.Blocks() as demo:\n",
    "    gr.Markdown(\"## PDF Text Extractor\")\n",
    "    pdf_input = gr.File(label=\"Upload PDF\", file_types=[\".pdf\"])\n",
    "    output_text = gr.Textbox(label=\"Extracted Text\", lines=20)\n",
    "    pdf_input.change(fn=extract, inputs=pdf_input, outputs=output_text)\n",
    "    # gr.Button(\"Extract Text\").click(fn=extract_text_from_pdf, inputs=pdf_input, outputs=output_text)\n",
    "\n",
    "demo.launch()"
   ]
  },
  {
   "cell_type": "code",
   "execution_count": null,
   "id": "76b90dd4",
   "metadata": {},
   "outputs": [],
   "source": []
  }
 ],
 "metadata": {
  "kernelspec": {
   "display_name": ".venv",
   "language": "python",
   "name": "python3"
  },
  "language_info": {
   "codemirror_mode": {
    "name": "ipython",
    "version": 3
   },
   "file_extension": ".py",
   "mimetype": "text/x-python",
   "name": "python",
   "nbconvert_exporter": "python",
   "pygments_lexer": "ipython3",
   "version": "3.13.2"
  }
 },
 "nbformat": 4,
 "nbformat_minor": 5
}
