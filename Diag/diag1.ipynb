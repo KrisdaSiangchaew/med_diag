{
 "cells": [
  {
   "cell_type": "code",
   "execution_count": null,
   "id": "8d25ea41",
   "metadata": {},
   "outputs": [],
   "source": [
    "import glob\n",
    "import os\n",
    "import json"
   ]
  },
  {
   "cell_type": "code",
   "execution_count": null,
   "id": "01a399bb",
   "metadata": {},
   "outputs": [],
   "source": [
    "# import pandas as pd\n",
    "\n",
    "# data = pd.DataFrame()\n",
    "\n",
    "data = []\n",
    "\n",
    "path = 'medical-records/HEM/HEM1_merged.json'\n",
    "with open(path, 'r') as file:\n",
    "        try:\n",
    "            text = json.load(file)\n",
    "            data.append(text)\n",
    "        except json.JSONDecodeError:\n",
    "            print(f\"Error decoding JSON in file: {path}\")\n",
    "\n",
    "path = 'medical-records/HEM/HEM2_merged.json'\n",
    "with open(path, 'r') as file:\n",
    "        try:\n",
    "            text = json.load(file)\n",
    "            data.append(text)\n",
    "        except json.JSONDecodeError:\n",
    "            print(f\"Error decoding JSON in file: {path}\")"
   ]
  },
  {
   "cell_type": "code",
   "execution_count": null,
   "id": "6d878da6",
   "metadata": {},
   "outputs": [],
   "source": [
    "len(data)"
   ]
  },
  {
   "cell_type": "code",
   "execution_count": null,
   "id": "9db3fb6f",
   "metadata": {},
   "outputs": [],
   "source": [
    "from openai import OpenAI\n",
    "from dotenv import load_dotenv\n",
    "import gradio as gr"
   ]
  },
  {
   "cell_type": "code",
   "execution_count": null,
   "id": "97dc2fbf",
   "metadata": {},
   "outputs": [],
   "source": [
    "# load_dotenv(override=True)\n",
    "# openai_api_key = os.getenv('OPENAI_API_KEY')"
   ]
  },
  {
   "cell_type": "code",
   "execution_count": null,
   "id": "7deef832",
   "metadata": {},
   "outputs": [],
   "source": [
    "model = 'qwen2.5:3b'\n",
    "base_url = 'http://localhost:11434/v1'\n",
    "client = OpenAI(base_url=base_url, api_key='ollama')"
   ]
  },
  {
   "cell_type": "code",
   "execution_count": null,
   "id": "b28701f0",
   "metadata": {},
   "outputs": [],
   "source": [
    "!ollama pull qwen2.5:3b"
   ]
  },
  {
   "cell_type": "code",
   "execution_count": null,
   "id": "599fbcb1",
   "metadata": {},
   "outputs": [],
   "source": [
    "response = client.chat.completions.create(model=model, messages=[{\"role\": \"user\", \"content\": \"hello?\"}])\n",
    "print(response.choices[0].message.content)"
   ]
  },
  {
   "cell_type": "code",
   "execution_count": null,
   "id": "7417bba5",
   "metadata": {},
   "outputs": [],
   "source": [
    "system_message = f\"You are a doctor who answer questions contained in medical records. \\n\"\n",
    "system_message = f\"Note that the dates recorded in the medical records are usually in Buddhist calendar in the format of DD/MM/YYYY.\\n\"\n",
    "system_message = f\"Otherwise, the dates is in Christian calendar format. \\n\"\n",
    "system_message += f\"Here is a list of medical records. There are {len(data)} records. They are in json format: \\n\\n\"\n",
    "system_message += f\"{data} \\n\\n\"\n",
    "system_message += \"Give your answer precisely based on the given medical records.\\n\"\n",
    "system_message += \"If you do not know the answer, please say so.\"\n",
    "\n",
    "def user_prompt(message):\n",
    "    return {\"role\": \"user\", \"content\": message}\n",
    "\n",
    "def system_prompt():\n",
    "    return {\"role\": \"system\", \"content\": system_message}"
   ]
  },
  {
   "cell_type": "code",
   "execution_count": null,
   "id": "f3acc96e",
   "metadata": {},
   "outputs": [],
   "source": [
    "def chat(message, history):\n",
    "    messages = [system_prompt()] + history + [user_prompt(message=message)]\n",
    "    response = client.chat.completions.create(\n",
    "        model=model,\n",
    "        messages=messages\n",
    "    )\n",
    "    return response.choices[0].message.content"
   ]
  },
  {
   "cell_type": "code",
   "execution_count": null,
   "id": "6ba53576",
   "metadata": {},
   "outputs": [],
   "source": [
    "gr.ChatInterface(fn=chat, type='messages').launch()"
   ]
  },
  {
   "cell_type": "code",
   "execution_count": null,
   "id": "dd512a51",
   "metadata": {},
   "outputs": [],
   "source": [
    "base_path = 'medical-records/HEM/*'\n",
    "file_paths = glob.glob(base_path)"
   ]
  },
  {
   "cell_type": "code",
   "execution_count": null,
   "id": "c156a9f5",
   "metadata": {},
   "outputs": [],
   "source": [
    "len(file_paths)"
   ]
  },
  {
   "cell_type": "code",
   "execution_count": null,
   "id": "9fd571fd",
   "metadata": {},
   "outputs": [],
   "source": [
    "merged_data = []\n",
    "\n",
    "for file_path in file_paths:\n",
    "    with open(file_path, 'r') as file:\n",
    "        try:\n",
    "            data = json.load(file)\n",
    "            merged_data.append(data)\n",
    "        except json.JSONDecodeError:\n",
    "            print(f\"Error decoding JSON in file: {file_path}\")\n",
    "\n",
    "output_file_path = 'merged_file.json'\n",
    "with open(output_file_path, 'w') as outfile:\n",
    "    json.dump(merged_data, outfile, indent=4)\n",
    "\n",
    "print(f\"Merged data written to: {output_file_path}\")"
   ]
  },
  {
   "cell_type": "code",
   "execution_count": null,
   "id": "536a94ff",
   "metadata": {},
   "outputs": [],
   "source": []
  }
 ],
 "metadata": {
  "kernelspec": {
   "display_name": ".venv",
   "language": "python",
   "name": "python3"
  },
  "language_info": {
   "codemirror_mode": {
    "name": "ipython",
    "version": 3
   },
   "file_extension": ".py",
   "mimetype": "text/x-python",
   "name": "python",
   "nbconvert_exporter": "python",
   "pygments_lexer": "ipython3",
   "version": "3.12.7"
  }
 },
 "nbformat": 4,
 "nbformat_minor": 5
}
