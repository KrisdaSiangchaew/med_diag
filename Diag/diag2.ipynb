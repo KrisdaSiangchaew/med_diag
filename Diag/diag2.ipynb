{
 "cells": [
  {
   "cell_type": "code",
   "execution_count": 3,
   "id": "405da95b",
   "metadata": {},
   "outputs": [],
   "source": [
    "import os\n",
    "from dotenv import load_dotenv\n",
    "import glob"
   ]
  },
  {
   "cell_type": "code",
   "execution_count": 1,
   "id": "07e1fb87",
   "metadata": {},
   "outputs": [],
   "source": [
    "from langchain.document_loaders import DirectoryLoader\n",
    "from langchain.document_loaders import PyPDFLoader\n",
    "\n",
    "def load_pdfs_from_folder(folder_path: str, glob_pattern: str = \"**/*.pdf\"):\n",
    "    \"\"\"\n",
    "    Load all PDF files from a folder using LangChain's DirectoryLoader.\n",
    "    \n",
    "    Args:\n",
    "        folder_path: Path to the folder containing PDF files\n",
    "        glob_pattern: Pattern to match PDF files (default: \"**/*.pdf\" for recursive search)\n",
    "    \n",
    "    Returns:\n",
    "        List of loaded documents\n",
    "    \n",
    "    Example:\n",
    "        docs = load_pdfs_from_folder(\"/path/to/pdfs\")\n",
    "    \"\"\"\n",
    "    # Configure the DirectoryLoader to use PyPDFLoader for PDF files\n",
    "    loader = DirectoryLoader(\n",
    "        path=folder_path,\n",
    "        glob=glob_pattern,\n",
    "        loader_cls=PyPDFLoader,\n",
    "        show_progress=True,\n",
    "        use_multithreading=True\n",
    "    )\n",
    "    \n",
    "    # Load and return the documents\n",
    "    documents = loader.load()\n",
    "    return documents"
   ]
  },
  {
   "cell_type": "code",
   "execution_count": 38,
   "id": "a7c4ae62",
   "metadata": {},
   "outputs": [
    {
     "name": "stderr",
     "output_type": "stream",
     "text": [
      "100%|██████████| 1/1 [00:00<00:00, 217.10it/s]\n"
     ]
    },
    {
     "name": "stdout",
     "output_type": "stream",
     "text": [
      "page_content='' metadata={'producer': 'PyPDF', 'creator': 'PyPDF', 'creationdate': '', 'source': '../medical-records/OTHER/patho1.pdf', 'total_pages': 1, 'page': 0, 'page_label': '1'}\n"
     ]
    },
    {
     "name": "stderr",
     "output_type": "stream",
     "text": [
      "100%|██████████| 7/7 [00:00<00:00, 246.62it/s]\n"
     ]
    },
    {
     "name": "stdout",
     "output_type": "stream",
     "text": [
      "page_content='' metadata={'producer': 'PyPDF', 'creator': 'PyPDF', 'creationdate': '', 'source': '../medical-records/RADIOLOGY/Hospital7.pdf', 'total_pages': 1, 'page': 0, 'page_label': '1'}\n"
     ]
    },
    {
     "name": "stderr",
     "output_type": "stream",
     "text": [
      "100%|██████████| 3/3 [00:00<00:00, 297.03it/s]\n"
     ]
    },
    {
     "name": "stdout",
     "output_type": "stream",
     "text": [
      "page_content='' metadata={'producer': 'PyPDF', 'creator': 'PyPDF', 'creationdate': '', 'source': '../medical-records/ONCOLOGY/CAP2.pdf', 'total_pages': 2, 'page': 0, 'page_label': '1'}\n"
     ]
    },
    {
     "name": "stderr",
     "output_type": "stream",
     "text": [
      "100%|██████████| 14/14 [00:00<00:00, 367.38it/s]"
     ]
    },
    {
     "name": "stdout",
     "output_type": "stream",
     "text": [
      "page_content='' metadata={'producer': 'PyPDF', 'creator': 'PyPDF', 'creationdate': '', 'source': '../medical-records/HEMATOLOGY/HEMATOLOGY11.pdf', 'total_pages': 2, 'page': 0, 'page_label': '1'}\n"
     ]
    },
    {
     "name": "stderr",
     "output_type": "stream",
     "text": [
      "\n"
     ]
    }
   ],
   "source": [
    "folders = glob.glob('../medical-records/*')\n",
    "\n",
    "documents = []\n",
    "\n",
    "for folder in folders:\n",
    "    doc_type = os.path.basename(folder)\n",
    "    folder_docs = load_pdfs_from_folder(folder_path=folder, glob_pattern=\"**/*.pdf\")\n",
    "    print(folder_docs[0])\n",
    "    for doc in folder_docs:\n",
    "        doc.metadata['doc_type'] = doc_type\n",
    "        documents.append(doc)"
   ]
  },
  {
   "cell_type": "code",
   "execution_count": 18,
   "id": "82ddf6d9",
   "metadata": {},
   "outputs": [
    {
     "data": {
      "text/plain": [
       "61"
      ]
     },
     "execution_count": 18,
     "metadata": {},
     "output_type": "execute_result"
    }
   ],
   "source": [
    "len(documents)"
   ]
  },
  {
   "cell_type": "code",
   "execution_count": 19,
   "id": "51229275",
   "metadata": {},
   "outputs": [
    {
     "data": {
      "text/plain": [
       "Document(metadata={'producer': 'PyPDF', 'creator': 'PyPDF', 'creationdate': '', 'source': '../medical-records/ONCOLOGY/CAP1.pdf', 'total_pages': 3, 'page': 0, 'page_label': '1', 'doc_type': 'ONCOLOGY'}, page_content='')"
      ]
     },
     "execution_count": 19,
     "metadata": {},
     "output_type": "execute_result"
    }
   ],
   "source": [
    "documents[20]"
   ]
  },
  {
   "cell_type": "code",
   "execution_count": 20,
   "id": "23ed7bdf",
   "metadata": {},
   "outputs": [],
   "source": [
    "from langchain.text_splitter import CharacterTextSplitter"
   ]
  },
  {
   "cell_type": "code",
   "execution_count": 21,
   "id": "5f000004",
   "metadata": {},
   "outputs": [],
   "source": [
    "text_splitter = CharacterTextSplitter(chunk_size = 1000, chunk_overlap=200)\n",
    "chunks = text_splitter.split_documents(documents=documents)"
   ]
  },
  {
   "cell_type": "code",
   "execution_count": 22,
   "id": "377062b2",
   "metadata": {},
   "outputs": [
    {
     "data": {
      "text/plain": [
       "0"
      ]
     },
     "execution_count": 22,
     "metadata": {},
     "output_type": "execute_result"
    }
   ],
   "source": [
    "len(chunks)"
   ]
  },
  {
   "cell_type": "code",
   "execution_count": null,
   "id": "e46907ed",
   "metadata": {},
   "outputs": [],
   "source": []
  }
 ],
 "metadata": {
  "kernelspec": {
   "display_name": ".venv",
   "language": "python",
   "name": "python3"
  },
  "language_info": {
   "codemirror_mode": {
    "name": "ipython",
    "version": 3
   },
   "file_extension": ".py",
   "mimetype": "text/x-python",
   "name": "python",
   "nbconvert_exporter": "python",
   "pygments_lexer": "ipython3",
   "version": "3.12.7"
  }
 },
 "nbformat": 4,
 "nbformat_minor": 5
}
